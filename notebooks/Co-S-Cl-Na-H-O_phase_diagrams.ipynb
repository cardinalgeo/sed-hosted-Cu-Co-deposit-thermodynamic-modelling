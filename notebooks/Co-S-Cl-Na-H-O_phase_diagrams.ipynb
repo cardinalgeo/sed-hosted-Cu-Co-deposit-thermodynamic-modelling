{
 "cells": [
  {
   "cell_type": "code",
   "execution_count": 13,
   "metadata": {},
   "outputs": [],
   "source": [
    "import thermofun as fun #thermo. properties at T-P-X\n",
    "import reaktoro as rkt # Gibbs free energy minimization"
   ]
  },
  {
   "cell_type": "code",
   "execution_count": 14,
   "metadata": {},
   "outputs": [
    {
     "name": "stdout",
     "output_type": "stream",
     "text": [
      "The element with symbol H is already in the database. Overwritting ...\n",
      "To add it to the database as a separate record assign it a different symbol.\n",
      "The element with symbol C is already in the database. Overwritting ...\n",
      "To add it to the database as a separate record assign it a different symbol.\n",
      "The element with symbol O is already in the database. Overwritting ...\n",
      "To add it to the database as a separate record assign it a different symbol.\n",
      "The element with symbol S is already in the database. Overwritting ...\n",
      "To add it to the database as a separate record assign it a different symbol.\n",
      "The substance with symbol H2O(g) is already in the database. Overwritting ...\n",
      "To add it to the database as a separate record assign it a different symbol.\n",
      "The substance with symbol CH4(g) is already in the database. Overwritting ...\n",
      "To add it to the database as a separate record assign it a different symbol.\n",
      "The substance with symbol CO2(g) is already in the database. Overwritting ...\n",
      "To add it to the database as a separate record assign it a different symbol.\n",
      "The substance with symbol H2(g) is already in the database. Overwritting ...\n",
      "To add it to the database as a separate record assign it a different symbol.\n",
      "The substance with symbol H2S(g) is already in the database. Overwritting ...\n",
      "To add it to the database as a separate record assign it a different symbol.\n",
      "The substance with symbol O2(g) is already in the database. Overwritting ...\n",
      "To add it to the database as a separate record assign it a different symbol.\n",
      "The substance with symbol SO2(g) is already in the database. Overwritting ...\n",
      "To add it to the database as a separate record assign it a different symbol.\n",
      "The substance with symbol CO(g) is already in the database. Overwritting ...\n",
      "To add it to the database as a separate record assign it a different symbol.\n",
      "The substance with symbol Co+2 is already in the database. Overwritting ...\n",
      "To add it to the database as a separate record assign it a different symbol.\n",
      "The substance with symbol Co+3 is already in the database. Overwritting ...\n",
      "To add it to the database as a separate record assign it a different symbol.\n",
      "The substance with symbol CoOH+ is already in the database. Overwritting ...\n",
      "To add it to the database as a separate record assign it a different symbol.\n",
      "The substance with symbol CoO@ is already in the database. Overwritting ...\n",
      "To add it to the database as a separate record assign it a different symbol.\n",
      "The substance with symbol CoO2-2 is already in the database. Overwritting ...\n",
      "To add it to the database as a separate record assign it a different symbol.\n",
      "The substance with symbol CoOH+2 is already in the database. Overwritting ...\n",
      "To add it to the database as a separate record assign it a different symbol.\n",
      "The substance with symbol HCoO2- is already in the database. Overwritting ...\n",
      "To add it to the database as a separate record assign it a different symbol.\n",
      "message: [json.exception.type_error.302] type must be number, but is object\n",
      "exception id: 302\n"
     ]
    }
   ],
   "source": [
    "# create base dataset from mines19 data file\n",
    "database = fun.Database(\"../data/raw/thermodynamic_data/mines19-thermofun.json\");\n",
    "\n",
    "# add critical parameters for gases (missing in ThermoFun data files)\n",
    "database.appendData(\"../data/raw/thermodynamic_data/slop98-gases-crit-thermofun.json\");\n",
    "\n",
    "# add Co aqueous species\n",
    "database.appendData(\"../data/raw/thermodynamic_data/Co_aq_species_thermo.json\");\n",
    "database.appendData(\"../data/raw/thermodynamic_data/Co-S_aq_species_thermo_Migdisov_etal_2011_OptimC.json\");\n",
    "# database.appendData(\"../data/raw/thermodynamic_data/Co-Cl_aq_species_thermo_Liu_etal_2011.json\");\n",
    "database.appendData(\"../data/raw/thermodynamic_data/Co-Cl_aq_species_thermo_Migdisov_etal_2011_OptimC.json\");\n",
    "\n",
    "# add Co minerals \n",
    "database.appendData(\"../data/raw/thermodynamic_data/Co_mineral_thermo.json\");\n",
    "\n",
    "db = rkt.ThermoFunDatabase(database)"
   ]
  },
  {
   "cell_type": "code",
   "execution_count": 31,
   "metadata": {},
   "outputs": [],
   "source": [
    "aqueous_phase = rkt.AqueousPhase(rkt.speciate(\"H O Na Cl Co S\"))\n",
    "mineral_phases = rkt.MineralPhases([\"Linnaeite\", \"Cattierite\", \"Co-pentlandite\", \"CoO(s)\", \"Co3O4(s)\", \"Co(s)\"])\n",
    "\n",
    "phases = rkt.Phases(db)\n",
    "\n",
    "phases.add(aqueous_phase)\n",
    "phases.add(mineral_phases)\n",
    "\n",
    "system = rkt.ChemicalSystem(phases)\n"
   ]
  },
  {
   "cell_type": "code",
   "execution_count": 33,
   "metadata": {},
   "outputs": [
    {
     "name": "stdout",
     "output_type": "stream",
     "text": [
      "['Cl-', 'ClO-', 'ClO4-', 'Co+2', 'Co+3', 'CoCl+', 'CoCl2@', 'CoCl3-', 'CoCl4-2', 'CoH2S+2', 'CoHS+', 'CoO2-2', 'CoO@', 'CoOH+', 'CoOH+2', 'H+', 'H2@', 'H2O2@', 'H2O@', 'H2S2O3@', 'H2S2O4@', 'H2S@', 'HCl@', 'HClO@', 'HCoO2-', 'HO2-', 'HS-', 'HS2O3-', 'HS2O4-', 'HSO3-', 'HSO4-', 'HSO5-', 'Na(SO4)-', 'Na+', 'NaCl@', 'NaOH@', 'O2@', 'OH-', 'S2-2', 'S2O3-2', 'S2O4-2', 'S2O5-2', 'S2O6-2', 'S2O8-2', 'S3-2', 'S3O6-2', 'S4-2', 'S4O6-2', 'S5-2', 'S5O6-2', 'SO2@', 'SO3-2', 'SO4-2', 'Linnaeite', 'Cattierite', 'Co-pentlandite', 'CoO(s)', 'Co3O4(s)', 'Co(s)']\n"
     ]
    }
   ],
   "source": [
    "print([species.name() for species in system.species()])"
   ]
  },
  {
   "cell_type": "markdown",
   "metadata": {},
   "source": [
    "# Reactions\n",
    "\n",
    "## mineral-mineral \n",
    "### linnaeite-Cobaltpentlandite \n",
    "$$3Co_3S_4 + 4H_2O° \\leftrightarrow Co_9S_8 + 4H_2S° + 2O_2°$$ \n",
    "$$3Co_3S_4 + 4H_2O° \\leftrightarrow Co_9S_8 + 4HS^- + 4H^+ + 2O_2°$$ \n",
    "$$3Co_3S_4 + 4H^+ + 8O_2° \\leftrightarrow Co_9S_8 + 4HSO_4^-$$ \n",
    "$$3Co_3S_4 + 4H_2O° + 6O_2° \\leftrightarrow Co_9S_8 + 4SO_4^{-2} + 8H^+$$ \n",
    "\n",
    "### cattierite-linnaeite\n",
    "$$3CoS_2 + 2H_2O° \\leftrightarrow Co_3S_4 + 2H_2S° + O_2°$$\n",
    "$$3CoS_2 +  2H_2O° \\leftrightarrow Co_3S_4 + 2HS^- + 2H^+ + O_2°$$\n",
    "$$3CoS_2 + 2H_2O° + 3O_2° \\leftrightarrow Co_3S_4 + 2HSO_4^- + 2H^+$$\n",
    "$$3CoS_2 + 2H_2O° + 6O_2° \\leftrightarrow Co_3S_4 + 2SO_4^{-2} + 4H^+$$\n",
    "\n",
    "### $Co_3O_4$-Cobaltpentlandite\n",
    "$$3Co_3O_4 + 8HSO_4^- + 8H^+ \\leftrightarrow Co_9S_8 + 8H_2O° + 12O_2°$$\n",
    "$$3Co_3O_4 + 8SO_4^{-2} + 16H^+ \\leftrightarrow Co_9S_8 + 8H_2O° + 12O_2°$$\n",
    "\n",
    "## mineral-aq species\n",
    "\n",
    "## aq species-aq species (predominance)\n",
    "\n"
   ]
  },
  {
   "cell_type": "code",
   "execution_count": 53,
   "metadata": {},
   "outputs": [],
   "source": [
    "min_min_rxns = [\"3Linnaeite + 4H2O@         = Co-pentlandite + 4H2S@ + 2O2@\", \n",
    "                \"3Linnaeite + 4H2O@         = Co-pentlandite + 4HS- + 4H+ + 2O2@\", \n",
    "                \"3Linnaeite + 4H2O@ + 6O2@  = Co-pentlandite + 4SO4-2 + 8H+\", \n",
    "                \"3Cattierite + 2H2O@        = Linnaeite + 2H2S@ + O2@\", \n",
    "                \"3Cattierite + 2H2O@        = Linnaeite + 2HS- + 2H+ + O2@\",\n",
    "                \"3Cattierite + 2H2O@ + 3O2@ = Linnaeite + 2HSO4- + 2H+\", \n",
    "                \"3Cattierite + 2H2O@ + 3O2@ = Linnaeite + 2SO4-2 + 4H+\", \n",
    "                \"3Co3O4(s) + 4HSO4- + 4H+   = Linnaeite + 4H2O@ + 8O2@\",\n",
    "                \"3Co3O4(s) + 8SO4-2 + 16H+  = Co-pentlandite + 8H2O@ + 18O2@\"\n",
    "                ]\n",
    "aq_aq_rxns = [\"H2S@        = HS- + H+\", \n",
    "              \"H2S@ + 2O2@ = HSO4- + H+\", \n",
    "              \"H2S@ + 2O2@ = SO4-2 + 2H+\", \n",
    "              \"HS- + 2O2@  = SO4-2 + H+\", \n",
    "              \"HSO4-       = SO4-2 + H+\"\n",
    "             ]\n",
    "\n",
    "min_aq_rxns = [\"Co-pentlandite + 36Cl- + 18H+ + 0.5O2@ = 9CoCl4-2 + 8H2S@ + H2O@\", \n",
    "               \"Linnaeite + 12Cl- + 6H+ + H2O@         = 3CoCl4-2 + 4H2S@ + 0.5O2@\", \n",
    "               \"Cattierite + 4Cl- + 2H+ + H2O@         = CoCl4-2 + 2H2S@ + 0.5O2@\", \n",
    "               \"Cattierite + 4Cl- + H2O@ + 3.5O2@      = CoCl4-2 + 2HSO4-\", \n",
    "               \"Cattierite + 4Cl- + H2O@ + 3.5O2@      = CoCl4-2 + 2SO4-2 + 2H+\", \n",
    "               \"Linnaeite + 12Cl- + H2O@ + 7.5O2@      = 3CoCl4-2 + 4SO4-2 + 2H+\", \n",
    "               \"Co-pentlandite + 36Cl- + 2H+ + 16.5O2@ = 9CoCl4-2 + 8SO4-2 + H2O@\", \n",
    "               \"Co3O4(s) + 12Cl- + 6H+                 = 3CoCl4-2 + 3H2O@ + 0.5O2@\"\n",
    "              ]"
   ]
  },
  {
   "cell_type": "code",
   "execution_count": 35,
   "metadata": {},
   "outputs": [],
   "source": [
    "engine = fun.ThermoEngine(database)"
   ]
  },
  {
   "cell_type": "code",
   "execution_count": 56,
   "metadata": {},
   "outputs": [
    {
     "name": "stdout",
     "output_type": "stream",
     "text": [
      "-6.497702402658512\n",
      "88.95010784448733\n",
      "85.22446770261519\n",
      "91.72217010527369\n",
      "-3.725640141872137\n"
     ]
    }
   ],
   "source": [
    "T = 150+273.15\n",
    "P = rkt.waterSaturatedPressureWagnerPruss(T)[0]/100000 # [bar] "
   ]
  },
  {
   "cell_type": "code",
   "execution_count": 57,
   "metadata": {},
   "outputs": [],
   "source": [
    "min_min_logK = []\n",
    "for rxn in min_min_rxns: \n",
    "    rxn_properties = engine.thermoPropertiesReaction(T, P, rxn) \n",
    "    min_min_logK.append(rxn_properties.log_equilibrium_constant.val)\n",
    "\n",
    "min_aq_logK = []\n",
    "for rxn in min_aq_rxns: \n",
    "    rxn_properties = engine.thermoPropertiesReaction(T, P, rxn) \n",
    "    min_aq_logK.append(rxn_properties.log_equilibrium_constant.val)\n",
    "\n",
    "aq_aq_logK = []\n",
    "for rxn in aq_aq_rxns: \n",
    "    rxn_properties = engine.thermoPropertiesReaction(T, P, rxn) \n",
    "    aq_aq_logK.append(rxn_properties.log_equilibrium_constant.val)\n"
   ]
  },
  {
   "cell_type": "code",
   "execution_count": null,
   "metadata": {},
   "outputs": [],
   "source": [
    "# vertical \n",
    "\n",
    "# horizontal \n",
    "\n",
    "# both "
   ]
  },
  {
   "cell_type": "code",
   "execution_count": null,
   "metadata": {},
   "outputs": [],
   "source": []
  }
 ],
 "metadata": {
  "interpreter": {
   "hash": "6e0a80d6f337eb1f1c2e8bae1c47fb2deeecc79a6b1a78d834e2ef444d81a8c2"
  },
  "kernelspec": {
   "display_name": "Python 3.9.9 64-bit ('sed-hosted-Cu-Co-deposit-thermodynamic-modelling': conda)",
   "name": "python3"
  },
  "language_info": {
   "codemirror_mode": {
    "name": "ipython",
    "version": 3
   },
   "file_extension": ".py",
   "mimetype": "text/x-python",
   "name": "python",
   "nbconvert_exporter": "python",
   "pygments_lexer": "ipython3",
   "version": "3.9.9"
  },
  "orig_nbformat": 4
 },
 "nbformat": 4,
 "nbformat_minor": 2
}
