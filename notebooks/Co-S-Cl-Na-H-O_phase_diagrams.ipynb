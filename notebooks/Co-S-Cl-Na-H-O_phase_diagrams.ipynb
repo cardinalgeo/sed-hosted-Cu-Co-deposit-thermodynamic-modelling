{
 "cells": [
  {
   "cell_type": "code",
   "execution_count": 27,
   "metadata": {},
   "outputs": [],
   "source": [
    "import thermofun as fun #thermo. properties at T-P-X\n",
    "import reaktoro as rkt # Gibbs free energy minimization\n",
    "import numpy as np\n",
    "from matplotlib import pyplot as plt"
   ]
  },
  {
   "cell_type": "code",
   "execution_count": 5,
   "metadata": {},
   "outputs": [
    {
     "name": "stdout",
     "output_type": "stream",
     "text": [
      "The element with symbol H is already in the database. Overwritting ...\n",
      "To add it to the database as a separate record assign it a different symbol.\n",
      "The element with symbol C is already in the database. Overwritting ...\n",
      "To add it to the database as a separate record assign it a different symbol.\n",
      "The element with symbol O is already in the database. Overwritting ...\n",
      "To add it to the database as a separate record assign it a different symbol.\n",
      "The element with symbol S is already in the database. Overwritting ...\n",
      "To add it to the database as a separate record assign it a different symbol.\n",
      "The substance with symbol H2O(g) is already in the database. Overwritting ...\n",
      "To add it to the database as a separate record assign it a different symbol.\n",
      "The substance with symbol CH4(g) is already in the database. Overwritting ...\n",
      "To add it to the database as a separate record assign it a different symbol.\n",
      "The substance with symbol CO2(g) is already in the database. Overwritting ...\n",
      "To add it to the database as a separate record assign it a different symbol.\n",
      "The substance with symbol H2(g) is already in the database. Overwritting ...\n",
      "To add it to the database as a separate record assign it a different symbol.\n",
      "The substance with symbol H2S(g) is already in the database. Overwritting ...\n",
      "To add it to the database as a separate record assign it a different symbol.\n",
      "The substance with symbol O2(g) is already in the database. Overwritting ...\n",
      "To add it to the database as a separate record assign it a different symbol.\n",
      "The substance with symbol SO2(g) is already in the database. Overwritting ...\n",
      "To add it to the database as a separate record assign it a different symbol.\n",
      "The substance with symbol CO(g) is already in the database. Overwritting ...\n",
      "To add it to the database as a separate record assign it a different symbol.\n",
      "The substance with symbol Co+2 is already in the database. Overwritting ...\n",
      "To add it to the database as a separate record assign it a different symbol.\n",
      "The substance with symbol Co+3 is already in the database. Overwritting ...\n",
      "To add it to the database as a separate record assign it a different symbol.\n",
      "The substance with symbol CoOH+ is already in the database. Overwritting ...\n",
      "To add it to the database as a separate record assign it a different symbol.\n",
      "The substance with symbol CoO@ is already in the database. Overwritting ...\n",
      "To add it to the database as a separate record assign it a different symbol.\n",
      "The substance with symbol CoO2-2 is already in the database. Overwritting ...\n",
      "To add it to the database as a separate record assign it a different symbol.\n",
      "The substance with symbol CoOH+2 is already in the database. Overwritting ...\n",
      "To add it to the database as a separate record assign it a different symbol.\n",
      "The substance with symbol HCoO2- is already in the database. Overwritting ...\n",
      "To add it to the database as a separate record assign it a different symbol.\n",
      "message: [json.exception.type_error.302] type must be number, but is object\n",
      "exception id: 302\n"
     ]
    }
   ],
   "source": [
    "# create base dataset from mines19 data file\n",
    "database = fun.Database(\"../data/raw/thermodynamic_data/mines19-thermofun.json\");\n",
    "\n",
    "# add critical parameters for gases (missing in ThermoFun data files)\n",
    "database.appendData(\"../data/raw/thermodynamic_data/slop98-gases-crit-thermofun.json\");\n",
    "\n",
    "# add Co aqueous species\n",
    "database.appendData(\"../data/raw/thermodynamic_data/Co_aq_species_thermo.json\");\n",
    "database.appendData(\"../data/raw/thermodynamic_data/Co-S_aq_species_thermo_Migdisov_etal_2011_OptimC.json\");\n",
    "# database.appendData(\"../data/raw/thermodynamic_data/Co-Cl_aq_species_thermo_Liu_etal_2011.json\");\n",
    "database.appendData(\"../data/raw/thermodynamic_data/Co-Cl_aq_species_thermo_Migdisov_etal_2011_OptimC.json\");\n",
    "\n",
    "# add Co minerals \n",
    "database.appendData(\"../data/raw/thermodynamic_data/Co_mineral_thermo.json\");\n",
    "\n",
    "db = rkt.ThermoFunDatabase(database)"
   ]
  },
  {
   "cell_type": "code",
   "execution_count": 6,
   "metadata": {},
   "outputs": [],
   "source": [
    "aqueous_phase = rkt.AqueousPhase(rkt.speciate(\"H O Na Cl Co S\"))\n",
    "mineral_phases = rkt.MineralPhases([\"Linnaeite\", \"Cattierite\", \"Co-pentlandite\", \"CoO(s)\", \"Co3O4(s)\", \"Co(s)\"])\n",
    "\n",
    "phases = rkt.Phases(db)\n",
    "\n",
    "phases.add(aqueous_phase)\n",
    "phases.add(mineral_phases)\n",
    "\n",
    "system = rkt.ChemicalSystem(phases)\n"
   ]
  },
  {
   "cell_type": "code",
   "execution_count": 7,
   "metadata": {},
   "outputs": [
    {
     "name": "stdout",
     "output_type": "stream",
     "text": [
      "['Cl-', 'ClO-', 'ClO4-', 'Co+2', 'Co+3', 'CoCl+', 'CoCl2@', 'CoCl3-', 'CoCl4-2', 'CoH2S+2', 'CoHS+', 'CoO2-2', 'CoO@', 'CoOH+', 'CoOH+2', 'H+', 'H2@', 'H2O2@', 'H2O@', 'H2S2O3@', 'H2S2O4@', 'H2S@', 'HCl@', 'HClO@', 'HCoO2-', 'HO2-', 'HS-', 'HS2O3-', 'HS2O4-', 'HSO3-', 'HSO4-', 'HSO5-', 'Na(SO4)-', 'Na+', 'NaCl@', 'NaOH@', 'O2@', 'OH-', 'S2-2', 'S2O3-2', 'S2O4-2', 'S2O5-2', 'S2O6-2', 'S2O8-2', 'S3-2', 'S3O6-2', 'S4-2', 'S4O6-2', 'S5-2', 'S5O6-2', 'SO2@', 'SO3-2', 'SO4-2', 'Linnaeite', 'Cattierite', 'Co-pentlandite', 'CoO(s)', 'Co3O4(s)', 'Co(s)']\n"
     ]
    }
   ],
   "source": [
    "print([species.name() for species in system.species()])"
   ]
  },
  {
   "cell_type": "markdown",
   "metadata": {},
   "source": [
    "# Reactions\n",
    "\n",
    "## mineral-mineral \n",
    "### linnaeite-Cobaltpentlandite \n",
    "$$3Co_3S_4 + 4H_2O° \\leftrightarrow Co_9S_8 + 4H_2S° + 2O_2°$$ \n",
    "$$3Co_3S_4 + 4H_2O° \\leftrightarrow Co_9S_8 + 4HS^- + 4H^+ + 2O_2°$$ \n",
    "$$3Co_3S_4 + 4H^+ + 8O_2° \\leftrightarrow Co_9S_8 + 4HSO_4^-$$ \n",
    "$$3Co_3S_4 + 4H_2O° + 6O_2° \\leftrightarrow Co_9S_8 + 4SO_4^{-2} + 8H^+$$ \n",
    "\n",
    "### cattierite-linnaeite\n",
    "$$3CoS_2 + 2H_2O° \\leftrightarrow Co_3S_4 + 2H_2S° + O_2°$$\n",
    "$$3CoS_2 +  2H_2O° \\leftrightarrow Co_3S_4 + 2HS^- + 2H^+ + O_2°$$\n",
    "$$3CoS_2 + 2H_2O° + 3O_2° \\leftrightarrow Co_3S_4 + 2HSO_4^- + 2H^+$$\n",
    "$$3CoS_2 + 2H_2O° + 6O_2° \\leftrightarrow Co_3S_4 + 2SO_4^{-2} + 4H^+$$\n",
    "\n",
    "### $Co_3O_4$-Cobaltpentlandite\n",
    "$$3Co_3O_4 + 8HSO_4^- + 8H^+ \\leftrightarrow Co_9S_8 + 8H_2O° + 12O_2°$$\n",
    "$$3Co_3O_4 + 8SO_4^{-2} + 16H^+ \\leftrightarrow Co_9S_8 + 8H_2O° + 12O_2°$$\n",
    "\n",
    "## mineral-aq species\n",
    "\n",
    "## aq species-aq species (predominance)\n",
    "\n"
   ]
  },
  {
   "cell_type": "code",
   "execution_count": 8,
   "metadata": {},
   "outputs": [],
   "source": [
    "min_min_rxns = [\"3Linnaeite + 4H2O@         = Co-pentlandite + 4H2S@ + 2O2@\", \n",
    "                \"3Linnaeite + 4H2O@         = Co-pentlandite + 4HS- + 4H+ + 2O2@\", \n",
    "                \"3Linnaeite + 4H2O@ + 6O2@  = Co-pentlandite + 4SO4-2 + 8H+\", \n",
    "                \"3Cattierite + 2H2O@        = Linnaeite + 2H2S@ + O2@\", \n",
    "                \"3Cattierite + 2H2O@        = Linnaeite + 2HS- + 2H+ + O2@\",\n",
    "                \"3Cattierite + 2H2O@ + 3O2@ = Linnaeite + 2HSO4- + 2H+\", \n",
    "                \"3Cattierite + 2H2O@ + 3O2@ = Linnaeite + 2SO4-2 + 4H+\", \n",
    "                \"3Co3O4(s) + 4HSO4- + 4H+   = Linnaeite + 4H2O@ + 8O2@\",\n",
    "                \"3Co3O4(s) + 8SO4-2 + 16H+  = Co-pentlandite + 8H2O@ + 18O2@\"\n",
    "                ]\n",
    "aq_aq_rxns = [\"H2S@        = HS- + H+\", \n",
    "              \"H2S@ + 2O2@ = HSO4- + H+\", \n",
    "              \"H2S@ + 2O2@ = SO4-2 + 2H+\", \n",
    "              \"HS- + 2O2@  = SO4-2 + H+\", \n",
    "              \"HSO4-       = SO4-2 + H+\"\n",
    "             ]\n",
    "\n",
    "min_aq_rxns = [\"Co-pentlandite + 36Cl- + 18H+ + 0.5O2@ = 9CoCl4-2 + 8H2S@ + H2O@\", \n",
    "               \"Linnaeite + 12Cl- + 6H+ + H2O@         = 3CoCl4-2 + 4H2S@ + 0.5O2@\", \n",
    "               \"Cattierite + 4Cl- + 2H+ + H2O@         = CoCl4-2 + 2H2S@ + 0.5O2@\", \n",
    "               \"Cattierite + 4Cl- + H2O@ + 3.5O2@      = CoCl4-2 + 2HSO4-\", \n",
    "               \"Cattierite + 4Cl- + H2O@ + 3.5O2@      = CoCl4-2 + 2SO4-2 + 2H+\", \n",
    "               \"Linnaeite + 12Cl- + H2O@ + 7.5O2@      = 3CoCl4-2 + 4SO4-2 + 2H+\", \n",
    "               \"Co-pentlandite + 36Cl- + 2H+ + 16.5O2@ = 9CoCl4-2 + 8SO4-2 + H2O@\", \n",
    "               \"Co3O4(s) + 12Cl- + 6H+                 = 3CoCl4-2 + 3H2O@ + 0.5O2@\"\n",
    "              ]"
   ]
  },
  {
   "cell_type": "code",
   "execution_count": 9,
   "metadata": {},
   "outputs": [],
   "source": [
    "engine = fun.ThermoEngine(database)"
   ]
  },
  {
   "cell_type": "code",
   "execution_count": 10,
   "metadata": {},
   "outputs": [],
   "source": [
    "T = 150+273.15\n",
    "P = rkt.waterSaturatedPressureWagnerPruss(T)[0]/100000 # [bar] "
   ]
  },
  {
   "cell_type": "code",
   "execution_count": 11,
   "metadata": {},
   "outputs": [],
   "source": [
    "min_min_logK = []\n",
    "for rxn in min_min_rxns: \n",
    "    rxn_properties = engine.thermoPropertiesReaction(T, P, rxn) \n",
    "    min_min_logK.append(rxn_properties.log_equilibrium_constant.val)\n",
    "\n",
    "min_aq_logK = []\n",
    "for rxn in min_aq_rxns: \n",
    "    rxn_properties = engine.thermoPropertiesReaction(T, P, rxn) \n",
    "    min_aq_logK.append(rxn_properties.log_equilibrium_constant.val)\n",
    "\n",
    "aq_aq_logK = []\n",
    "for rxn in aq_aq_rxns: \n",
    "    rxn_properties = engine.thermoPropertiesReaction(T, P, rxn) \n",
    "    aq_aq_logK.append(rxn_properties.log_equilibrium_constant.val)\n"
   ]
  },
  {
   "cell_type": "code",
   "execution_count": null,
   "metadata": {},
   "outputs": [],
   "source": [
    "logaCoCl4 = \n",
    "logaCl =\n",
    "logaH2S = \n",
    "logaHS = \n",
    "logaHSO4 = \n",
    "logaSO4 = "
   ]
  },
  {
   "cell_type": "code",
   "execution_count": 30,
   "metadata": {},
   "outputs": [
    {
     "name": "stdout",
     "output_type": "stream",
     "text": [
      "[ 0  1  2  3  4  5  6  7  8  9 10 11 12]\n"
     ]
    }
   ],
   "source": [
    "pH_vert = []\n",
    "logaO2 = []\n",
    "\n",
    "pH = np.arange(0,13)\n",
    "print(logaH)"
   ]
  },
  {
   "cell_type": "code",
   "execution_count": 31,
   "metadata": {},
   "outputs": [],
   "source": [
    "# HORIZONTAL\n",
    "# ## mineral-mineral\n",
    "# logaO2.append(0.5*min_min_logK[0] - 2*logaH2S)\n",
    "# logaO2.append(min_min_logK[3] - 2*logaH2S)\n",
    "\n",
    "# ## mineral-aqueous\n",
    "# logaO2.append(-1/3*min_aq_logK[3] + 1/3.5*logaCoCl4 + 2/3.5*logaHSO4 - 4/3.5*logaCl)\n",
    "\n",
    "\n",
    "# VERTICAL\n",
    "## aqueous-aqueous\n",
    "# pH_vert.append(-aq_aq_logK[0] + logaHS - logaH2S)\n",
    "pH_vert.append(-aq_aq_logK[0])\n",
    "# pH_vert.append(-aq_aq_logK[4] + logaSO4 - logHSO4)\n",
    "pH_vert.append(-aq_aq_logK[4])\n",
    "\n",
    "\n",
    "# BOTH \n",
    "# ## mineral-mineral\n",
    "# logaO2.append(0.5*min_min_logK[1] - 2*logaHS + 2*pH)\n",
    "# logaO2.append(-1/6*min_min_logK[2] + 2/3*logaSO4 - 4/3*pH)\n",
    "# logaO2.append(min_min_logK[4] - 2*logaHS - 2*logaH)\n",
    "# logaO2.append(-1/3*min_min_logK[5] + 2/3*logaHSO4 - 2/3*pH)\n",
    "# logaO2.append(-1/3*min_min_logK[6] + 2/3*logaSO4 - 4/3*pH)\n",
    "# logaO2.append(1/8*min_min_logK[7] + 1/2*logaHSO4 - 1/2*pH)\n",
    "# logaO2.append(1/18*min_min_logK[8] + 8*logaSO4 - 8/9*pH)\n",
    "\n",
    "# ## mineral-aqueous\n",
    "# logaO2.append(-2*min_aq_logK[0] + 18*logaCoCl4 + 16*logaH2S - 72*logaCl + 36*pH)\n",
    "# logaO2.append(2*min_aq_logK[1] - 6*logaCoCl4 - 8*logaH2S + 24*logaCl - 12*pH)\n",
    "# logaO2.append(2*min_aq_logK[2] - 2*logaCoCl4 - 4*logaH2S + 8*logaCl - 4*pH)\n",
    "# logaO2.append(-1/3.5*min_aq_logK[4] + 1/3.5*logaCoCl4 + 2/3.5*logaSO4 - 2/3.5*pH - 4/3.5*logaCl)\n",
    "# logaO2.append(-1/7.5*min_aq_logK[5] + 3/7.5*logaCoCl4 + 4/7.5*logaSO4 - 2/7.5*pH - 12/7.5*logaCl)\n",
    "# logaO2.append(-1/16.5*min_aq_logK[6] + 9/16.5*logaCoCl4 + 8/16.5*logaSO4 - 36/16.5*logaCl + 2/16.5*pH)\n",
    "# logaO2.append(-2*min_aq_logK[7] - 6*logaCoCl4 + 24*logaCl - 12*pH)\n",
    "\n",
    "## aqueous-aqueous\n",
    "# logaO2.append(-1/2*aq_aq_logK[1] + 1/2*logaHSO4 - 1/2*pH - 1/2*logaH2S)\n",
    "logaO2.append(-1/2*aq_aq_logK[1] - 1/2*pH)\n",
    "# logaO2.append(-1/2*aq_aq_logK[2] + 1/2*logaSO4 - pH - 1/2*logaH2S)\n",
    "logaO2.append(-1/2*aq_aq_logK[2] - pH)\n",
    "# logaO2.append(-1/2*aq_aq_logK[3] + 1/2*logaSO4 - 1/2*pH - 1/2*logaHS)\n",
    "logaO2.append(-1/2*aq_aq_logK[3] - 1/2*pH)"
   ]
  },
  {
   "cell_type": "code",
   "execution_count": 177,
   "metadata": {},
   "outputs": [
    {
     "ename": "ValueError",
     "evalue": "x and y must have same first dimension, but have shapes (1,) and (13,)",
     "output_type": "error",
     "traceback": [
      "\u001b[0;31m---------------------------------------------------------------------------\u001b[0m",
      "\u001b[0;31mValueError\u001b[0m                                Traceback (most recent call last)",
      "\u001b[0;32m/var/folders/s5/y_27w4ms6tj21xxv0z3tg3cw0000gn/T/ipykernel_9521/3432134250.py\u001b[0m in \u001b[0;36m<module>\u001b[0;34m\u001b[0m\n\u001b[1;32m      1\u001b[0m \u001b[0;32mfor\u001b[0m \u001b[0mline\u001b[0m \u001b[0;32min\u001b[0m \u001b[0mlogaO2\u001b[0m\u001b[0;34m:\u001b[0m\u001b[0;34m\u001b[0m\u001b[0;34m\u001b[0m\u001b[0m\n\u001b[0;32m----> 2\u001b[0;31m     \u001b[0mplt\u001b[0m\u001b[0;34m.\u001b[0m\u001b[0mplot\u001b[0m\u001b[0;34m(\u001b[0m\u001b[0mpH\u001b[0m\u001b[0;34m,\u001b[0m \u001b[0mline\u001b[0m\u001b[0;34m)\u001b[0m\u001b[0;34m\u001b[0m\u001b[0;34m\u001b[0m\u001b[0m\n\u001b[0m\u001b[1;32m      3\u001b[0m \u001b[0;32mfor\u001b[0m \u001b[0mline\u001b[0m \u001b[0;32min\u001b[0m \u001b[0mpH_vert\u001b[0m\u001b[0;34m:\u001b[0m\u001b[0;34m\u001b[0m\u001b[0;34m\u001b[0m\u001b[0m\n\u001b[1;32m      4\u001b[0m     \u001b[0mplt\u001b[0m\u001b[0;34m.\u001b[0m\u001b[0maxvline\u001b[0m\u001b[0;34m(\u001b[0m\u001b[0mline\u001b[0m\u001b[0;34m)\u001b[0m\u001b[0;34m\u001b[0m\u001b[0;34m\u001b[0m\u001b[0m\n",
      "\u001b[0;32m~/miniconda3/envs/sed-hosted-Cu-Co-deposit-thermodynamic-modelling/lib/python3.9/site-packages/matplotlib/pyplot.py\u001b[0m in \u001b[0;36mplot\u001b[0;34m(scalex, scaley, data, *args, **kwargs)\u001b[0m\n\u001b[1;32m   2755\u001b[0m \u001b[0;34m@\u001b[0m\u001b[0m_copy_docstring_and_deprecators\u001b[0m\u001b[0;34m(\u001b[0m\u001b[0mAxes\u001b[0m\u001b[0;34m.\u001b[0m\u001b[0mplot\u001b[0m\u001b[0;34m)\u001b[0m\u001b[0;34m\u001b[0m\u001b[0;34m\u001b[0m\u001b[0m\n\u001b[1;32m   2756\u001b[0m \u001b[0;32mdef\u001b[0m \u001b[0mplot\u001b[0m\u001b[0;34m(\u001b[0m\u001b[0;34m*\u001b[0m\u001b[0margs\u001b[0m\u001b[0;34m,\u001b[0m \u001b[0mscalex\u001b[0m\u001b[0;34m=\u001b[0m\u001b[0;32mTrue\u001b[0m\u001b[0;34m,\u001b[0m \u001b[0mscaley\u001b[0m\u001b[0;34m=\u001b[0m\u001b[0;32mTrue\u001b[0m\u001b[0;34m,\u001b[0m \u001b[0mdata\u001b[0m\u001b[0;34m=\u001b[0m\u001b[0;32mNone\u001b[0m\u001b[0;34m,\u001b[0m \u001b[0;34m**\u001b[0m\u001b[0mkwargs\u001b[0m\u001b[0;34m)\u001b[0m\u001b[0;34m:\u001b[0m\u001b[0;34m\u001b[0m\u001b[0;34m\u001b[0m\u001b[0m\n\u001b[0;32m-> 2757\u001b[0;31m     return gca().plot(\n\u001b[0m\u001b[1;32m   2758\u001b[0m         \u001b[0;34m*\u001b[0m\u001b[0margs\u001b[0m\u001b[0;34m,\u001b[0m \u001b[0mscalex\u001b[0m\u001b[0;34m=\u001b[0m\u001b[0mscalex\u001b[0m\u001b[0;34m,\u001b[0m \u001b[0mscaley\u001b[0m\u001b[0;34m=\u001b[0m\u001b[0mscaley\u001b[0m\u001b[0;34m,\u001b[0m\u001b[0;34m\u001b[0m\u001b[0;34m\u001b[0m\u001b[0m\n\u001b[1;32m   2759\u001b[0m         **({\"data\": data} if data is not None else {}), **kwargs)\n",
      "\u001b[0;32m~/miniconda3/envs/sed-hosted-Cu-Co-deposit-thermodynamic-modelling/lib/python3.9/site-packages/matplotlib/axes/_axes.py\u001b[0m in \u001b[0;36mplot\u001b[0;34m(self, scalex, scaley, data, *args, **kwargs)\u001b[0m\n\u001b[1;32m   1630\u001b[0m         \"\"\"\n\u001b[1;32m   1631\u001b[0m         \u001b[0mkwargs\u001b[0m \u001b[0;34m=\u001b[0m \u001b[0mcbook\u001b[0m\u001b[0;34m.\u001b[0m\u001b[0mnormalize_kwargs\u001b[0m\u001b[0;34m(\u001b[0m\u001b[0mkwargs\u001b[0m\u001b[0;34m,\u001b[0m \u001b[0mmlines\u001b[0m\u001b[0;34m.\u001b[0m\u001b[0mLine2D\u001b[0m\u001b[0;34m)\u001b[0m\u001b[0;34m\u001b[0m\u001b[0;34m\u001b[0m\u001b[0m\n\u001b[0;32m-> 1632\u001b[0;31m         \u001b[0mlines\u001b[0m \u001b[0;34m=\u001b[0m \u001b[0;34m[\u001b[0m\u001b[0;34m*\u001b[0m\u001b[0mself\u001b[0m\u001b[0;34m.\u001b[0m\u001b[0m_get_lines\u001b[0m\u001b[0;34m(\u001b[0m\u001b[0;34m*\u001b[0m\u001b[0margs\u001b[0m\u001b[0;34m,\u001b[0m \u001b[0mdata\u001b[0m\u001b[0;34m=\u001b[0m\u001b[0mdata\u001b[0m\u001b[0;34m,\u001b[0m \u001b[0;34m**\u001b[0m\u001b[0mkwargs\u001b[0m\u001b[0;34m)\u001b[0m\u001b[0;34m]\u001b[0m\u001b[0;34m\u001b[0m\u001b[0;34m\u001b[0m\u001b[0m\n\u001b[0m\u001b[1;32m   1633\u001b[0m         \u001b[0;32mfor\u001b[0m \u001b[0mline\u001b[0m \u001b[0;32min\u001b[0m \u001b[0mlines\u001b[0m\u001b[0;34m:\u001b[0m\u001b[0;34m\u001b[0m\u001b[0;34m\u001b[0m\u001b[0m\n\u001b[1;32m   1634\u001b[0m             \u001b[0mself\u001b[0m\u001b[0;34m.\u001b[0m\u001b[0madd_line\u001b[0m\u001b[0;34m(\u001b[0m\u001b[0mline\u001b[0m\u001b[0;34m)\u001b[0m\u001b[0;34m\u001b[0m\u001b[0;34m\u001b[0m\u001b[0m\n",
      "\u001b[0;32m~/miniconda3/envs/sed-hosted-Cu-Co-deposit-thermodynamic-modelling/lib/python3.9/site-packages/matplotlib/axes/_base.py\u001b[0m in \u001b[0;36m__call__\u001b[0;34m(self, data, *args, **kwargs)\u001b[0m\n\u001b[1;32m    310\u001b[0m                 \u001b[0mthis\u001b[0m \u001b[0;34m+=\u001b[0m \u001b[0margs\u001b[0m\u001b[0;34m[\u001b[0m\u001b[0;36m0\u001b[0m\u001b[0;34m]\u001b[0m\u001b[0;34m,\u001b[0m\u001b[0;34m\u001b[0m\u001b[0;34m\u001b[0m\u001b[0m\n\u001b[1;32m    311\u001b[0m                 \u001b[0margs\u001b[0m \u001b[0;34m=\u001b[0m \u001b[0margs\u001b[0m\u001b[0;34m[\u001b[0m\u001b[0;36m1\u001b[0m\u001b[0;34m:\u001b[0m\u001b[0;34m]\u001b[0m\u001b[0;34m\u001b[0m\u001b[0;34m\u001b[0m\u001b[0m\n\u001b[0;32m--> 312\u001b[0;31m             \u001b[0;32myield\u001b[0m \u001b[0;32mfrom\u001b[0m \u001b[0mself\u001b[0m\u001b[0;34m.\u001b[0m\u001b[0m_plot_args\u001b[0m\u001b[0;34m(\u001b[0m\u001b[0mthis\u001b[0m\u001b[0;34m,\u001b[0m \u001b[0mkwargs\u001b[0m\u001b[0;34m)\u001b[0m\u001b[0;34m\u001b[0m\u001b[0;34m\u001b[0m\u001b[0m\n\u001b[0m\u001b[1;32m    313\u001b[0m \u001b[0;34m\u001b[0m\u001b[0m\n\u001b[1;32m    314\u001b[0m     \u001b[0;32mdef\u001b[0m \u001b[0mget_next_color\u001b[0m\u001b[0;34m(\u001b[0m\u001b[0mself\u001b[0m\u001b[0;34m)\u001b[0m\u001b[0;34m:\u001b[0m\u001b[0;34m\u001b[0m\u001b[0;34m\u001b[0m\u001b[0m\n",
      "\u001b[0;32m~/miniconda3/envs/sed-hosted-Cu-Co-deposit-thermodynamic-modelling/lib/python3.9/site-packages/matplotlib/axes/_base.py\u001b[0m in \u001b[0;36m_plot_args\u001b[0;34m(self, tup, kwargs, return_kwargs)\u001b[0m\n\u001b[1;32m    496\u001b[0m \u001b[0;34m\u001b[0m\u001b[0m\n\u001b[1;32m    497\u001b[0m         \u001b[0;32mif\u001b[0m \u001b[0mx\u001b[0m\u001b[0;34m.\u001b[0m\u001b[0mshape\u001b[0m\u001b[0;34m[\u001b[0m\u001b[0;36m0\u001b[0m\u001b[0;34m]\u001b[0m \u001b[0;34m!=\u001b[0m \u001b[0my\u001b[0m\u001b[0;34m.\u001b[0m\u001b[0mshape\u001b[0m\u001b[0;34m[\u001b[0m\u001b[0;36m0\u001b[0m\u001b[0;34m]\u001b[0m\u001b[0;34m:\u001b[0m\u001b[0;34m\u001b[0m\u001b[0;34m\u001b[0m\u001b[0m\n\u001b[0;32m--> 498\u001b[0;31m             raise ValueError(f\"x and y must have same first dimension, but \"\n\u001b[0m\u001b[1;32m    499\u001b[0m                              f\"have shapes {x.shape} and {y.shape}\")\n\u001b[1;32m    500\u001b[0m         \u001b[0;32mif\u001b[0m \u001b[0mx\u001b[0m\u001b[0;34m.\u001b[0m\u001b[0mndim\u001b[0m \u001b[0;34m>\u001b[0m \u001b[0;36m2\u001b[0m \u001b[0;32mor\u001b[0m \u001b[0my\u001b[0m\u001b[0;34m.\u001b[0m\u001b[0mndim\u001b[0m \u001b[0;34m>\u001b[0m \u001b[0;36m2\u001b[0m\u001b[0;34m:\u001b[0m\u001b[0;34m\u001b[0m\u001b[0;34m\u001b[0m\u001b[0m\n",
      "\u001b[0;31mValueError\u001b[0m: x and y must have same first dimension, but have shapes (1,) and (13,)"
     ]
    },
    {
     "data": {
      "image/png": "[encoded data removed]",
      "text/plain": [
       "<Figure size 432x288 with 1 Axes>"
      ]
     },
     "metadata": {
      "needs_background": "light"
     },
     "output_type": "display_data"
    }
   ],
   "source": [
    "for line in logaO2:\n",
    "    plt.plot(pH, line)\n",
    "for line in pH_vert: \n",
    "    plt.axvline(line)"
   ]
  },
  {
   "cell_type": "code",
   "execution_count": 140,
   "metadata": {},
   "outputs": [],
   "source": [
    "phases = rkt.Phases(db)\n",
    "\n",
    "aqueous_phase = rkt.AqueousPhase([\"H2O@\", \"O2@\", \"H2@\", \"H+\", \"OH-\", \"H2S@\", \"HS-\", \"HSO4-\", \"SO4-2\"])\n",
    "phases.add(aqueous_phase)\n",
    "\n",
    "gaseous_phase = rkt.GaseousPhase([\"H2O(g)\", \"O2(g)\", \"H2(g)\"])\n",
    "phases.add(gaseous_phase)\n",
    "\n",
    "\n",
    "system = rkt.ChemicalSystem(phases)\n"
   ]
  },
  {
   "cell_type": "code",
   "execution_count": 39,
   "metadata": {},
   "outputs": [
    {
     "name": "stdout",
     "output_type": "stream",
     "text": [
      "['H2O@', 'O2@', 'H2@', 'H+', 'OH-', 'H2S@', 'HS-', 'HSO4-', 'SO4-2']\n"
     ]
    }
   ],
   "source": [
    "print([species.name() for species in system.species()])"
   ]
  },
  {
   "cell_type": "code",
   "execution_count": 50,
   "metadata": {},
   "outputs": [],
   "source": [
    "pH_values = np.linspace(0, 12, 10)\n",
    "logfO2_values = np.linspace(-20, -60, 10)\n",
    "\n",
    "mesh = np.meshgrid(pH_values, logfO2_values)"
   ]
  },
  {
   "cell_type": "code",
   "execution_count": 47,
   "metadata": {},
   "outputs": [],
   "source": [
    "def addpHConstraint(specs): \n",
    "    idx_pH = specs.addInput(\"pH\")\n",
    "\n",
    "    pH_constraint = rkt.ConstraintEquation()\n",
    "    pH_constraint.id = \"pH\"\n",
    "    pH_constraint.fn = lambda props, w : w[idx_pH] - rkt.AqueousProps(props).pH()\n",
    "    specs.addConstraint(pH_constraint)\n",
    "\n",
    "def addSConstraint(specs): \n",
    "    idx_S = specs.addInput(\"S\")\n",
    "\n",
    "    S_constraint = rkt.ConstraintEquation()\n",
    "    S_constraint.id = \"S\"\n",
    "    \n",
    "    def SFunction(props, w): \n",
    "        aq_props = rkt.AqueousProps(props)\n",
    "        model_S_conc = aq_props.elementMolality(\"S\") \n",
    "        return w[idx_S] - model_S_conc\n",
    "        \n",
    "    S_constraint.fn = SFunction   \n",
    "    specs.addConstraint(S_constraint)"
   ]
  },
  {
   "cell_type": "code",
   "execution_count": 81,
   "metadata": {},
   "outputs": [
    {
     "name": "stdout",
     "output_type": "stream",
     "text": [
      "Inputs:  ['T', 'P', 'f[O2(g)]', 'pH', 'S']\n",
      "Params:  []\n",
      "ControlVariables:  ['[H2S]', '[O2(g)]', '[H+]']\n",
      "ControlVariablesP:  ['[H2S]']\n",
      "ControlVariablesQ:  ['[O2(g)]', '[H+]']\n",
      "Titrants:  ['[H2S]', '[O2]', '[H+]']\n",
      "Titrants Explicit:  ['[H2S]']\n",
      "Titrants Implicit:  ['[O2]', '[H+]']\n",
      "Constraints:  ['S', 'f[O2(g)]', 'pH']\n"
     ]
    }
   ],
   "source": [
    "# Specify equilibrium constraints\n",
    "specs = rkt.EquilibriumSpecs(system)\n",
    "\n",
    "specs.temperature()       \n",
    "specs.pressure() \n",
    "\n",
    "# control variables\n",
    "specs.fugacity(\"O2(g)\")\n",
    "specs.pH()\n",
    "addSConstraint(specs)\n",
    "\n",
    "# explicit titrant\n",
    "specs.openTo(\"H2S\") # arbitrary substance\n",
    "\n",
    "print(\"Inputs: \", specs.namesInputs())\n",
    "print(\"Params: \", specs.namesParams())\n",
    "print(\"ControlVariables: \", specs.namesControlVariables())\n",
    "print(\"ControlVariablesP: \", specs.namesControlVariablesP())\n",
    "print(\"ControlVariablesQ: \", specs.namesControlVariablesQ())\n",
    "print(\"Titrants: \", specs.namesTitrants())\n",
    "print(\"Titrants Explicit: \", specs.namesTitrantsExplicit())\n",
    "print(\"Titrants Implicit: \", specs.namesTitrantsImplicit())\n",
    "print(\"Constraints: \", specs.namesConstraints())\n",
    "\n",
    "solver = rkt.EquilibriumSolver(specs)\n",
    "conditions = rkt.EquilibriumConditions(specs)"
   ]
  },
  {
   "cell_type": "code",
   "execution_count": 79,
   "metadata": {},
   "outputs": [],
   "source": [
    "temperature = 200 + 273.15 # [K]\n",
    "pressure = rkt.waterSaturatedPressureWagnerPruss(temperature)[0] # [Pa]"
   ]
  },
  {
   "cell_type": "code",
   "execution_count": 87,
   "metadata": {},
   "outputs": [],
   "source": [
    "states = []\n",
    "\n",
    "state = rkt.ChemicalState(system)\n",
    "state.add(\"H2O@\", 1, \"kg\")\n",
    "\n",
    "for pH, logfO2 in zip(mesh[0].flatten(), mesh[1].flatten()): \n",
    "    # set T, P constraints\n",
    "    conditions.temperature(temperature, \"kelvin\")\n",
    "    conditions.pressure(pressure, \"Pa\")\n",
    "\n",
    "    # set fO2 constraint\n",
    "    conditions.fugacity(\"O2(g)\", 1e-40, \"bar\")\n",
    "\n",
    "    # set custom pH and S constraints\n",
    "    conditions.set(\"pH\", 1)\n",
    "    conditions.set(\"S\", 0.001) # [molal]\n",
    "\n",
    "    state = rkt.ChemicalState(state)\n",
    "\n",
    "    result = solver.solve(state, conditions) \n",
    "\n",
    "    states.append(state)"
   ]
  },
  {
   "cell_type": "code",
   "execution_count": 132,
   "metadata": {},
   "outputs": [],
   "source": []
  },
  {
   "cell_type": "code",
   "execution_count": 115,
   "metadata": {},
   "outputs": [],
   "source": [
    "# constraint_values = []\n",
    "# for constraint in self.constraints: \n",
    "#     constraint_values.append(constraint.value)\n",
    "\n",
    "# mesh_values = np.meshgrid(*constraint_values)\n",
    "\n",
    "# flattened_values = []\n",
    "# for dim in mesh_values: \n",
    "#     flattened_values.append(dim.flatten())\n",
    "\n",
    "# for condition in zip(*flattened_values): \n",
    "#     for value, constraint in zip(condition, self.constraints): \n",
    "#         print(constraint.name, value)"
   ]
  },
  {
   "cell_type": "code",
   "execution_count": 159,
   "metadata": {},
   "outputs": [],
   "source": [
    "equilibrater = ConstrainedEquilibration(system)\n",
    "\n",
    "T = equilibrater.addConstraint(             \"temperature\", 150 + 273.15,                                \"kelvin\")\n",
    "equilibrater.addConstraint(                 \"pressure\",    rkt.waterSaturatedPressureWagnerPruss(T)[0], \"Pa\");\n",
    "fO2_values = equilibrater.addConstraint(    \"fO2\",         10**np.linspace(-20, -60, 10),               \"bar\");\n",
    "pH_values = equilibrater.addConstraint(     \"pH\",          np.linspace(0, 12, 10));\n",
    "equilibrater.addConstraint(                 \"S\",           0.001,                                       \"molal\");\n",
    "\n",
    "equilibrater.initialize(\"H2O@\", 1, \"kg\")\n",
    "\n",
    "states = equilibrater.equilibrate()\n"
   ]
  },
  {
   "cell_type": "code",
   "execution_count": 176,
   "metadata": {},
   "outputs": [
    {
     "data": {
      "text/plain": [
       "<matplotlib.collections.PathCollection at 0x1187e1370>"
      ]
     },
     "execution_count": 176,
     "metadata": {},
     "output_type": "execute_result"
    },
    {
     "data": {
      "image/png": "[encoded data removed]",
      "text/plain": [
       "<Figure size 432x288 with 1 Axes>"
      ]
     },
     "metadata": {
      "needs_background": "light"
     },
     "output_type": "display_data"
    }
   ],
   "source": [
    "points_plot = np.meshgrid(pH_values, np.log10(fO2_values))\n",
    "plt.scatter(*zip(dim.flatten() for dim in points_plot))"
   ]
  }
 ],
 "metadata": {
  "interpreter": {
   "hash": "6e0a80d6f337eb1f1c2e8bae1c47fb2deeecc79a6b1a78d834e2ef444d81a8c2"
  },
  "kernelspec": {
   "display_name": "Python 3.9.9 64-bit ('sed-hosted-Cu-Co-deposit-thermodynamic-modelling': conda)",
   "name": "python3"
  },
  "language_info": {
   "codemirror_mode": {
    "name": "ipython",
    "version": 3
   },
   "file_extension": ".py",
   "mimetype": "text/x-python",
   "name": "python",
   "nbconvert_exporter": "python",
   "pygments_lexer": "ipython3",
   "version": "3.9.9"
  },
  "orig_nbformat": 4
 },
 "nbformat": 4,
 "nbformat_minor": 2
}
